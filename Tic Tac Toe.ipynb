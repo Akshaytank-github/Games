{
 "cells": [
  {
   "cell_type": "code",
   "execution_count": 1,
   "metadata": {},
   "outputs": [],
   "source": [
    "from IPython.display import clear_output\n",
    "def display_board(board):\n",
    "    clear_output()\n",
    "    print(board[1]+' | '+board[2]+' | '+board[3])\n",
    "    print('---------')\n",
    "    print(board[4]+' | '+board[5]+' | '+board[6])\n",
    "    print('---------')\n",
    "    print(board[7]+' | '+board[8]+' | '+board[9])"
   ]
  },
  {
   "cell_type": "code",
   "execution_count": 2,
   "metadata": {},
   "outputs": [],
   "source": [
    "def player_input():\n",
    "    '''\n",
    "    OUTPUT = (player 1 marker, player 2 marker)\n",
    "    '''\n",
    "    marker = \"\"\n",
    "    \n",
    "    while marker != 'X' and marker != 'O':\n",
    "        marker = input(\"\\nPlayer 1, choose X or O: \").upper()\n",
    "    \n",
    "    if marker == \"X\":\n",
    "        return (\"X\", \"O\")\n",
    "    else:\n",
    "        return (\"O\", \"X\")"
   ]
  },
  {
   "cell_type": "code",
   "execution_count": 3,
   "metadata": {},
   "outputs": [],
   "source": [
    "def place_marker(board, marker, position):\n",
    "    \n",
    "    board[position] = marker"
   ]
  },
  {
   "cell_type": "code",
   "execution_count": 4,
   "metadata": {},
   "outputs": [],
   "source": [
    "def win_check(board, mark):\n",
    "    \n",
    "    return(\n",
    "        # Rows\n",
    "        (board[1]==board[2]==board[3]==mark) or\n",
    "        (board[4]==board[5]==board[6]==mark) or\n",
    "        (board[7]==board[8]==board[9]==mark) or\n",
    "        \n",
    "        # Columns\n",
    "        (board[1]==board[4]==board[7]==mark) or\n",
    "        (board[2]==board[5]==board[8]==mark) or\n",
    "        (board[3]==board[6]==board[9]==mark) or\n",
    "        \n",
    "        # Diagonals\n",
    "        (board[1]==board[5]==board[9]==mark) or\n",
    "        (board[3]==board[5]==board[7]==mark)\n",
    "    )"
   ]
  },
  {
   "cell_type": "code",
   "execution_count": 5,
   "metadata": {},
   "outputs": [],
   "source": [
    "import random\n",
    "\n",
    "def choose_first():\n",
    "    \n",
    "    flip = random.randint(1,2)\n",
    "    \n",
    "    if flip == 1:\n",
    "        return 'Player 1'\n",
    "    else:\n",
    "        return 'Player 2'"
   ]
  },
  {
   "cell_type": "code",
   "execution_count": 6,
   "metadata": {},
   "outputs": [],
   "source": [
    "def space_check(board, position):\n",
    "    \n",
    "    return (board[position] == ' ')"
   ]
  },
  {
   "cell_type": "code",
   "execution_count": 7,
   "metadata": {},
   "outputs": [],
   "source": [
    "def full_board_check(board):\n",
    "    \n",
    "    for ele in range(1,10):\n",
    "        if space_check(board, ele):\n",
    "            return False\n",
    "            \n",
    "    return True"
   ]
  },
  {
   "cell_type": "code",
   "execution_count": 8,
   "metadata": {},
   "outputs": [],
   "source": [
    "def player_choice(board):\n",
    "    \n",
    "    position = 0\n",
    "    \n",
    "    while position not in [1,2,3,4,5,6,7,8,9] or not space_check(board, position):\n",
    "        position = int(input(\"\\nChoose a position: (1-9) \"))\n",
    "    \n",
    "    return position"
   ]
  },
  {
   "cell_type": "code",
   "execution_count": 9,
   "metadata": {},
   "outputs": [],
   "source": [
    "def replay():\n",
    "    \n",
    "    choice = input('\\nPlay again ? Enter Yes or No').lower()\n",
    "    \n",
    "    return choice == 'yes'"
   ]
  },
  {
   "cell_type": "code",
   "execution_count": 12,
   "metadata": {},
   "outputs": [
    {
     "name": "stdout",
     "output_type": "stream",
     "text": [
      "X | X | X\n",
      "---------\n",
      "  |   |  \n",
      "---------\n",
      "O | O |  \n",
      "\n",
      "CONGRATULATIONS PLAYER 1.... You have won the game...!\n",
      "\n",
      "Play again ? Enter Yes or Nono\n",
      "\n",
      "Thank you for playing the game... stay home... stay safe...\n"
     ]
    }
   ],
   "source": [
    "print('Welcome to the TIC TAC TOE made by Akshay...')\n",
    "\n",
    "# while loop to keep  running the game\n",
    "\n",
    "while True:\n",
    "    \n",
    "    # play game\n",
    "    \n",
    "    ## set up everything like board, whos first, choose marker(X, O)\n",
    "    the_board = [' ']*10\n",
    "    player1_marker, player2_marker = player_input()\n",
    "    \n",
    "    turn = choose_first()\n",
    "    print(turn +\" will go first..!!\")\n",
    "    \n",
    "    play_game = input(\"\\nAre you aready to play the game ? Type yes or no\").lower()\n",
    "    \n",
    "    if play_game == 'yes':\n",
    "        game_on = True\n",
    "    else:\n",
    "        game_on = False\n",
    "    \n",
    "    \n",
    "    ## game play\n",
    "    \n",
    "    while game_on:\n",
    "        \n",
    "    ### player one turn\n",
    "        if turn == 'Player 1':\n",
    "            \n",
    "            # show the board\n",
    "            display_board(the_board)\n",
    "            \n",
    "            # choose a position \n",
    "            position = player_choice(the_board)\n",
    "            \n",
    "            # place the marker on the position\n",
    "            place_marker(the_board, player1_marker, position)\n",
    "            \n",
    "            # check if they won\n",
    "            if win_check(the_board, player1_marker):\n",
    "                display_board(the_board)\n",
    "                print('\\nCONGRATULATIONS PLAYER 1.... You have won the game...!')\n",
    "                game_on = False\n",
    "            \n",
    "            else:\n",
    "                if full_board_check(the_board):\n",
    "                    display_board(the_board)\n",
    "                    print(\"\\nOh no.... Nobody has won... You both are brillient...!!\")\n",
    "                    game_on = False\n",
    "                else:\n",
    "                    turn = 'Player 2'\n",
    "            \n",
    "    ### player two turn\n",
    "        else:\n",
    "            \n",
    "            # show the board\n",
    "            display_board(the_board)\n",
    "            \n",
    "            # choose a position \n",
    "            position = player_choice(the_board)\n",
    "            \n",
    "            # place the marker on the position\n",
    "            place_marker(the_board, player2_marker, position)\n",
    "            \n",
    "            # check if they won\n",
    "            if win_check(the_board, player2_marker):\n",
    "                display_board(the_board)\n",
    "                print('\\nCONGRATULATIONS PLAYER 2.... You have won the game...!')\n",
    "                game_on = False\n",
    "            \n",
    "            else:\n",
    "                if full_board_check(the_board):\n",
    "                    display_board(the_board)\n",
    "                    print(\"\\nOh no.... Nobody has won... You both are brillient...!!\")\n",
    "                    game_on = False\n",
    "                else:\n",
    "                    turn = 'Player 1'          \n",
    "    \n",
    "\n",
    "    \n",
    "    if not replay():\n",
    "        print(\"\\nThank you for playing the game... stay home... stay safe...\")\n",
    "        break"
   ]
  },
  {
   "cell_type": "code",
   "execution_count": null,
   "metadata": {},
   "outputs": [],
   "source": []
  }
 ],
 "metadata": {
  "kernelspec": {
   "display_name": "Python 3",
   "language": "python",
   "name": "python3"
  },
  "language_info": {
   "codemirror_mode": {
    "name": "ipython",
    "version": 3
   },
   "file_extension": ".py",
   "mimetype": "text/x-python",
   "name": "python",
   "nbconvert_exporter": "python",
   "pygments_lexer": "ipython3",
   "version": "3.7.3"
  }
 },
 "nbformat": 4,
 "nbformat_minor": 4
}
